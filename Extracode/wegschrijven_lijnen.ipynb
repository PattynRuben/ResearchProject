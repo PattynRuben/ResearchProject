{
 "cells": [
  {
   "cell_type": "code",
   "execution_count": null,
   "metadata": {},
   "outputs": [],
   "source": [
    "# Open het bronbestand (bijvoorbeeld 'source_file.json')\n",
    "# en het bestemmingsbestand (bijvoorbeeld 'destination_file.json') in schrijfmodus\n",
    "with open('../Bestanden_zonder_snelheid/bikedata_volledig/bike_gebruikersprofielen2.json', 'r') as source, open('../Bestanden_zonder_snelheid/demobestanden100gebruikprofielen.json', 'w') as dest:\n",
    "    for i in range(100):\n",
    "        line = source.readline()\n",
    "        # Controleer of de regel niet leeg is\n",
    "        if line:\n",
    "            dest.write(line)\n",
    "        else:\n",
    "            # Als de regel leeg is (einde van het bestand), stop de loop\n",
    "            break\n"
   ]
  }
 ],
 "metadata": {
  "kernelspec": {
   "display_name": "Python 3",
   "language": "python",
   "name": "python3"
  },
  "language_info": {
   "name": "python",
   "version": "3.10.11"
  }
 },
 "nbformat": 4,
 "nbformat_minor": 2
}
