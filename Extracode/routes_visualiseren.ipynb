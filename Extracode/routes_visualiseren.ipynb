{
 "cells": [
  {
   "cell_type": "code",
   "execution_count": 2,
   "metadata": {},
   "outputs": [],
   "source": [
    "import json\n",
    "import folium\n",
    "\n",
    "# Functie om routes op een kaart te plotten met Folium\n",
    "def plot_routes(file_path):\n",
    "    # Initialiseer een kaart gecentreerd rond de eerste set coördinaten\n",
    "    first_line = json.loads(open(file_path, 'r').readline())\n",
    "    initial_coords = (first_line['latitude'][0], first_line['longitude'][0])\n",
    "    map = folium.Map(location=initial_coords, zoom_start=12)\n",
    "\n",
    "    # Lees het bestand en plot elke route\n",
    "    with open(file_path, 'r') as file:\n",
    "        for line in file:\n",
    "            json_object = json.loads(line)\n",
    "            latitude = json_object['latitude']\n",
    "            longitude = json_object['longitude']\n",
    "            coordinates = list(zip(latitude, longitude))\n",
    "\n",
    "            # Maak en voeg een polyline toe aan de kaart voor elke route\n",
    "            folium.PolyLine(coordinates, color='blue', weight=2.5, opacity=1).add_to(map)\n",
    "\n",
    "    return map\n",
    "\n",
    "# Plot de routes\n",
    "file_path = './Data/Loopdata/kleinebestanden/routes_volledig.json'  # Vervang dit met het pad naar uw JSON-bestand\n",
    "routes_map = plot_routes(file_path)\n",
    "\n",
    "# Sla de kaart op in een HTML-bestand\n",
    "output_map_path = 'routes_map2.html'  # U kunt het pad wijzigen waar u het HTML-bestand wilt opslaan\n",
    "routes_map.save(output_map_path)\n"
   ]
  },
  {
   "cell_type": "code",
   "execution_count": null,
   "metadata": {},
   "outputs": [],
   "source": [
    "import json\n",
    "import folium\n",
    "\n",
    "# Aangepaste functie om routes op een kaart te plotten met Folium, inclusief klikbare popups\n",
    "def plot_routes_with_clickable_ids(file_path):\n",
    "    # Lees de eerste regel om de kaart te initialiseren\n",
    "    with open(file_path, 'r') as file:\n",
    "        first_line = json.loads(file.readline())\n",
    "    \n",
    "    initial_coords = (first_line['latitude'][0], first_line['longitude'][0])\n",
    "    map = folium.Map(location=initial_coords, zoom_start=12)\n",
    "\n",
    "    # Lees het bestand en plot elke route met een klikbare popup voor de ID\n",
    "    with open(file_path, 'r') as file:\n",
    "        for line in file:\n",
    "            json_object = json.loads(line)\n",
    "            user_id = json_object['id']  # De ID die moet worden weergegeven\n",
    "            latitude = json_object['latitude']\n",
    "            longitude = json_object['longitude']\n",
    "            coordinates = list(zip(latitude, longitude))\n",
    "\n",
    "            # Voeg een polyline toe met een popup die de ID toont\n",
    "            folium.PolyLine(coordinates, color='blue', weight=2.5, opacity=1)\\\n",
    "                .add_child(folium.Popup(f'Route ID: {user_id}'))\\\n",
    "                .add_to(map)\n",
    "\n",
    "    return map\n",
    "\n",
    "# Het pad naar uw JSON-bestand\n",
    "file_path = './Data/Loopdata/kleinebestanden/routes_volledig.json'  # Vervang 'uw_bestandspad.json' met het daadwerkelijke pad naar uw JSON-bestand\n",
    "\n",
    "# Plot de routes met klikbare popups\n",
    "routes_map_with_ids = plot_routes_with_clickable_ids(file_path)\n",
    "\n",
    "# Sla de kaart op in een HTML-bestand\n",
    "output_map_path_with_ids = 'routes_map_with_ids.html'  # U kunt het pad wijzigen waar u het HTML-bestand wilt opslaan\n",
    "routes_map_with_ids.save(output_map_path_with_ids)\n"
   ]
  }
 ],
 "metadata": {
  "kernelspec": {
   "display_name": "Python 3",
   "language": "python",
   "name": "python3"
  },
  "language_info": {
   "codemirror_mode": {
    "name": "ipython",
    "version": 3
   },
   "file_extension": ".py",
   "mimetype": "text/x-python",
   "name": "python",
   "nbconvert_exporter": "python",
   "pygments_lexer": "ipython3",
   "version": "3.10.11"
  }
 },
 "nbformat": 4,
 "nbformat_minor": 2
}
