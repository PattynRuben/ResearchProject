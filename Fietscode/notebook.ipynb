{
 "cells": [
  {
   "cell_type": "code",
   "execution_count": 1,
   "metadata": {},
   "outputs": [
    {
     "name": "stdout",
     "output_type": "stream",
     "text": [
      "Het aantal regels in het JSON-bestand is: 17093\n"
     ]
    }
   ],
   "source": [
    "import json\n",
    "\n",
    "def count_lines_in_json_file(json_file):\n",
    "    with open(json_file, 'r') as file:\n",
    "        line_count = sum(1 for line in file)\n",
    "    return line_count\n",
    "\n",
    "json_file = '../Data/Fietsdata/kleinebestanden/fietsroutes_aangepast_met_gebruikers.json' # Vervang \"voorbeeld.json\" door de daadwerkelijke naam van je JSON-bestand\n",
    "number_of_lines = count_lines_in_json_file(json_file)\n",
    "print(\"Het aantal regels in het JSON-bestand is:\", number_of_lines)\n"
   ]
  }
 ],
 "metadata": {
  "kernelspec": {
   "display_name": "Python 3",
   "language": "python",
   "name": "python3"
  },
  "language_info": {
   "codemirror_mode": {
    "name": "ipython",
    "version": 3
   },
   "file_extension": ".py",
   "mimetype": "text/x-python",
   "name": "python",
   "nbconvert_exporter": "python",
   "pygments_lexer": "ipython3",
   "version": "3.10.11"
  }
 },
 "nbformat": 4,
 "nbformat_minor": 2
}
